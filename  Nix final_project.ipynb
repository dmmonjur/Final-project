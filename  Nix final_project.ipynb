{
 "cells": [
  {
   "cell_type": "code",
   "execution_count": 32,
   "metadata": {
    "id": "iCOAXR9ZLqPS"
   },
   "outputs": [],
   "source": [
    "import os\n",
    "from dotenv import load_dotenv\n",
    "import requests\n",
    "import streamlit as st\n",
    "from langchain_google_genai import ChatGoogleGenerativeAI\n",
    "from langchain.chains import APIChain\n",
    "\n"
   ]
  },
  {
   "cell_type": "markdown",
   "metadata": {
    "id": "kgyk4gyeOt36"
   },
   "source": [
    "Model and API Key"
   ]
  },
  {
   "cell_type": "code",
   "execution_count": 33,
   "metadata": {
    "id": "RuQtkTRZdgK7"
   },
   "outputs": [],
   "source": [
    "# Load environment variables\n",
    "load_dotenv()\n",
    "OPENWEATHER_API_KEY = os.getenv(\"OPENWEATHER_API_KEY\")\n",
    "GEMINI_API_KEY = os.getenv(\"GEMINI_API_KEY\")\n",
    "API_KEY = os.getenv(\"API_KEY\")\n"
   ]
  },
  {
   "cell_type": "code",
   "execution_count": 35,
   "metadata": {},
   "outputs": [],
   "source": [
    "from dotenv import load_dotenv\n",
    "import os\n",
    "\n",
    "# Load the .env file\n",
    "load_dotenv(dotenv_path='~/Desktop/Columbia Boot Camp/FINAL PROJECT/.env')\n",
    "\n",
    "# Access variables\n",
    "OPENWEATHER_API_KEY= os.getenv('API_KEY')\n",
    "secret_key = os.getenv('SECRET_KEY')\n"
   ]
  },
  {
   "cell_type": "code",
   "execution_count": 36,
   "metadata": {
    "id": "dtfEOvcrf5aP"
   },
   "outputs": [],
   "source": [
    "# Set up the Google Gemini model\n",
    "GEMINI_MODEL = \"gemini-1.5-flash\"\n",
    "llm = ChatGoogleGenerativeAI(google_api_key=GEMINI_API_KEY, model=GEMINI_MODEL, temperature=0.9)\n"
   ]
  },
  {
   "cell_type": "code",
   "execution_count": 37,
   "metadata": {
    "id": "4tN5D_pmc8KC"
   },
   "outputs": [],
   "source": [
    "# Fetch weather data\n",
    "def fetch_weather_data(city):\n",
    "    url = f\"http://api.openweathermap.org/data/2.5/weather?q={city}&appid={OPENWEATHER_API_KEY}&units=metric\"\n",
    "    response = requests.get(url)\n",
    "    if response.status_code == 200:\n",
    "        data = response.json()\n",
    "        return {\n",
    "            \"temperature\": data[\"main\"][\"temp\"],\n",
    "            \"description\": data[\"weather\"][0][\"description\"]\n",
    "        }\n",
    "    else:\n",
    "        return {\"error\": f\"Failed to fetch weather data: {response.status_code}\"}\n",
    "\n"
   ]
  },
  {
   "cell_type": "code",
   "execution_count": 38,
   "metadata": {
    "id": "9Oa8oFPGc9O8"
   },
   "outputs": [],
   "source": [
    "# Fetch GDP data from World Bank API\n",
    "def fetch_gdp_data(country_code):\n",
    "    url = f\"https://api.worldbank.org/v2/country/{country_code}/indicator/NY.GDP.MKTP.CD?format=json\"\n",
    "    response = requests.get(url)\n",
    "    if response.status_code == 200:\n",
    "        data = response.json()\n",
    "        if len(data) > 1:\n",
    "            gdp_data = data[1][:5]  # Fetch the most recent 5 years\n",
    "            return [{\"year\": gdp[\"date\"], \"gdp\": gdp[\"value\"]} for gdp in gdp_data if gdp[\"value\"]]\n",
    "        else:\n",
    "            return {\"error\": \"No GDP data available\"}\n",
    "    else:\n",
    "        return {\"error\": f\"Failed to fetch GDP data: {response.status_code}\"}\n",
    "\n"
   ]
  },
  {
   "cell_type": "code",
   "execution_count": null,
   "metadata": {},
   "outputs": [],
   "source": [
    "LGBTQ API\n",
    "\n",
    "\n",
    "\n",
    "\n",
    "\n",
    "\n"
   ]
  },
  {
   "cell_type": "code",
   "execution_count": null,
   "metadata": {},
   "outputs": [],
   "source": [
    "# Fetch data from LGBTQ API\n",
    "\n",
    "\n",
    "\n"
   ]
  },
  {
   "cell_type": "code",
   "execution_count": 39,
   "metadata": {
    "id": "GqSUuAHsc_id"
   },
   "outputs": [],
   "source": [
    "# Generate relocation insights using Gemini\n",
    "# In the application, You can prompts \n",
    "\n",
    "\n",
    "\n",
    "def generate_relocation_insights(city, weather_summary, gdp_summary):\n",
    "    prompt = f\"\"\"\n",
    "    Provide detailed relocation insights for {city}:\n",
    "    - Consider the following weather context: {weather_summary}.\n",
    "    - Economic context: {gdp_summary}.\n",
    "    - Include cultural aspects, job opportunities, and challenges for expats.\n",
    "    \"\"\"\n",
    "    response = llm.predict(prompt)\n",
    "    return response\n"
   ]
  },
  {
   "cell_type": "code",
   "execution_count": 41,
   "metadata": {
    "id": "UgADtSngdBv7"
   },
   "outputs": [],
   "source": [
    "OPENWEATHER_API_KEY = os.getenv(\"OPENWEATHER_API_KEY\")\n",
    "Gemini_API_KEY = os.getenv(\"Gemini_API_KEY\")\n"
   ]
  },
  {
   "cell_type": "code",
   "execution_count": 42,
   "metadata": {
    "colab": {
     "base_uri": "https://localhost:8080/"
    },
    "id": "ibmQC3opdHHa",
    "outputId": "407168ad-30c7-45a8-ad80-3dadde3fad71"
   },
   "outputs": [],
   "source": [
    "# Streamlit App\n",
    "st.title(\"Relocation Insights Tool\")\n",
    "st.write(\"Get detailed insights about relocating to your favorite city!\")\n"
   ]
  },
  {
   "cell_type": "code",
   "execution_count": 43,
   "metadata": {
    "id": "64svQ5D-dIt_"
   },
   "outputs": [],
   "source": [
    "def combined_relocation_info(city, country_code):\n",
    "    # Fetch weather data\n",
    "    weather_info = fetch_weather_data(city)\n",
    "    if \"error\" in weather_info:\n",
    "        weather_summary = weather_info[\"error\"]\n",
    "    else:\n",
    "        weather_summary = (\n",
    "            f\"The current temperature in {city} is {weather_info['temperature']}°C \"\n",
    "            f\"with {weather_info['description']}.\"\n",
    "        )\n",
    "\n",
    "    # Fetch GDP data\n",
    "    gdp_info = fetch_gdp_data(country_code)\n",
    "    if \"error\" in gdp_info:\n",
    "        gdp_summary = gdp_info[\"error\"]\n",
    "    else:\n",
    "        # Safely build the GDP summary\n",
    "        gdp_items = [f\"{item['year']}: {item['gdp']}\" for item in gdp_info if 'year' in item and 'gdp' in item]\n",
    "        if gdp_items:\n",
    "            gdp_summary = \"GDP data for recent years: \" + \", \".join(gdp_items)\n",
    "        else:\n",
    "            gdp_summary = \"No GDP data available.\"\n",
    "\n",
    "    # Generate relocation insights\n",
    "    relocation_insights = generate_relocation_insights(city, weather_summary, gdp_summary)\n",
    "\n",
    "    return {\n",
    "        \"weather_summary\": weather_summary,\n",
    "        \"gdp_summary\": gdp_summary,\n",
    "        \"relocation_insights\": relocation_insights\n",
    "    }\n"
   ]
  },
  {
   "cell_type": "code",
   "execution_count": 44,
   "metadata": {
    "colab": {
     "base_uri": "https://localhost:8080/"
    },
    "id": "Dq0CXJ__dMmZ",
    "outputId": "13991f3a-849a-47db-bdb9-7ba365530caa"
   },
   "outputs": [],
   "source": [
    "# User Input\n",
    "city = st.text_input(\"Enter the city you want to relocate to:\", \"Berlin\")\n",
    "country_code = st.text_input(\"Enter the country code for the city:\", \"DE\")\n",
    "\n",
    "if st.button(\"Get Insights\"):\n",
    "    with st.spinner(\"Fetching data and generating insights...\"):\n",
    "        results = combined_relocation_info(city, country_code)\n",
    "\n",
    "        st.subheader(\"Weather Summary\")\n",
    "        st.write(results[\"weather_summary\"])\n",
    "\n",
    "        st.subheader(\"Economic Summary\")\n",
    "        st.write(results[\"gdp_summary\"])\n",
    "\n",
    "        st.subheader(\"Relocation Insights\")\n",
    "        st.write(results[\"relocation_insights\"])\n"
   ]
  },
  {
   "cell_type": "code",
   "execution_count": null,
   "metadata": {},
   "outputs": [],
   "source": [
    "# User Input\n",
    "\n",
    "\n",
    "\n",
    "\n",
    "\n",
    "\n"
   ]
  },
  {
   "cell_type": "code",
   "execution_count": 45,
   "metadata": {
    "colab": {
     "base_uri": "https://localhost:8080/"
    },
    "id": "Yk089PvUhTXd",
    "outputId": "243c990c-b436-4a4a-f517-f54cde99687f"
   },
   "outputs": [],
   "source": [
    "# Feedback Section\n",
    "st.subheader(\"Feedback\")\n",
    "rating = st.slider(\"Rate the quality of the insights (1-5):\", 1, 5)\n",
    "comments = st.text_area(\"Additional Comments:\")\n",
    "\n",
    "if st.button(\"Submit Feedback\"):\n",
    "    st.success(\"Thank you for your feedback!\")\n",
    "    # Save feedback to a file or database if needed"
   ]
  },
  {
   "cell_type": "markdown",
   "metadata": {
    "id": "zNN6EpF6eTb4"
   },
   "source": [
    "Documentation\n",
    "### Summary of How All Components Fit Together in the App\n"
   ]
  },
  {
   "cell_type": "markdown",
   "metadata": {
    "id": "6C2vYenbeaNS"
   },
   "source": [
    "The app provides **relocation insights** for users by integrating data from multiple sources (weather, GDP, and AI-generated insights). Below is a high-level summary of how each section contributes to the overall functionality:\n"
   ]
  },
  {
   "cell_type": "markdown",
   "metadata": {
    "id": "5ymuER8ieicB"
   },
   "source": [
    "1. **Dependencies**\n",
    "\n",
    "\t•\tLibraries: The app relies on key Python libraries:\n",
    "\t•\trequests: For making API calls to external services like OpenWeather and the World Bank API.\n",
    "\t•\tstreamlit: For building an interactive web interface.\n",
    "\t•\tdotenv: For securely loading API keys from environment variables.\n",
    "\t•\tlangchain-google-genai: For integrating the Gemini AI model to generate insights.\n",
    "\t•\tpandas: For potential data manipulation and processing (if needed).\n",
    "\t•\tPurpose: These libraries ensure smooth data fetching, AI interaction, and user interface development.\n",
    "\n"
   ]
  },
  {
   "cell_type": "markdown",
   "metadata": {
    "id": "FeVQvu64em89"
   },
   "source": [
    "2. **Environment Variables**\n",
    "\n",
    "\t•\tEnvironment Variables:\n",
    "\t•\tOPENWEATHER_API_KEY: The API key for accessing weather data from OpenWeather.\n",
    "\t•\tGoogle_Gemini_API_KEY: The API key for interacting with the Gemini AI model.\n",
    "\t•\tHow It Fits:\n",
    "\t•\tThese variables are stored securely in a .env file and loaded using the dotenv library.\n",
    "\t•\tThey are used in API calls and AI model initialization, ensuring sensitive information (like API keys) is not hardcoded in the script."
   ]
  },
  {
   "cell_type": "markdown",
   "metadata": {
    "id": "eiWZ2Y6fepH3"
   },
   "source": [
    "3. **Weather Data Fetching**\n",
    "\n",
    "def fetch_weather_data(city):\n",
    "    ...\n",
    "\n",
    "\t•\tPurpose: Fetches real-time weather data for the selected city using the OpenWeather API.\n",
    "\t•\tIntegration:\n",
    "\t•\tDisplays the weather summary (e.g., temperature, weather conditions) in the app.\n",
    "\t•\tAdds contextual information for relocation insights generated by the AI model."
   ]
  },
  {
   "cell_type": "markdown",
   "metadata": {
    "id": "Ys04z1AOesG3"
   },
   "source": [
    "4. **GDP Data Fetching**\n",
    "\n",
    "def fetch_gdp_data(country_code):\n",
    "    ...\n",
    "\n",
    "\t•\tPurpose: Retrieves GDP data for the country using the World Bank API.\n",
    "\t•\tIntegration:\n",
    "\t•\tProvides an economic context (e.g., recent GDP trends) for relocation insights.\n",
    "\t•\tDisplays a concise GDP summary in the app."
   ]
  },
  {
   "cell_type": "markdown",
   "metadata": {
    "id": "ZYluLF_geuWQ"
   },
   "source": [
    "5. **AI-Generated Insights**\n",
    "\n",
    "def generate_relocation_insights(city, weather_summary, gdp_summary):\n",
    "    ...\n",
    "\n",
    "\t•\tPurpose: Combines weather, GDP, and the city name into a prompt for the Gemini AI model to generate detailed relocation insights.\n",
    "\t•\tIntegration:\n",
    "\t•\tThe model produces insights covering cultural aspects, job opportunities, and challenges.\n",
    "\t•\tOutputs are displayed in the “Relocation Insights” section of the app."
   ]
  },
  {
   "cell_type": "markdown",
   "metadata": {
    "id": "f_lMMP96ewNf"
   },
   "source": [
    "6. **Streamlit App Logic**\n",
    "\n",
    "# User Input\n",
    "city = st.text_input(\"Enter the city you want to relocate to:\", \"Berlin\")\n",
    "country_code = st.text_input(\"Enter the country code for the city:\", \"DE\")\n",
    "...\n",
    "\n",
    "\t•\tStreamlit Components:\n",
    "\t•\tUser Inputs:\n",
    "\t•\tText boxes allow users to input the city and country code.\n",
    "\t•\tButtons trigger actions (e.g., fetching insights, submitting feedback).\n",
    "\t•\tReal-Time Data Fetching:\n",
    "\t•\tThe app fetches weather and GDP data based on user inputs.\n",
    "\t•\tDisplays these summaries in dedicated sections.\n",
    "\t•\tAI-Generated Insights:\n",
    "\t•\tCombines all data into a cohesive prompt sent to the Gemini model.\n",
    "\t•\tDisplays the AI’s response as detailed relocation advice."
   ]
  },
  {
   "cell_type": "markdown",
   "metadata": {
    "id": "m4tc574weyHQ"
   },
   "source": [
    "7. **Feedback Collection**\n",
    "\n",
    "st.subheader(\"Feedback\")\n",
    "rating = st.slider(\"Rate the quality of the insights (1-5):\", 1, 5)\n",
    "comments = st.text_area(\"Additional Comments:\")\n",
    "...\n",
    "\n",
    "\t•\tPurpose: Collects user feedback on the generated insights.\n",
    "\t•\tIntegration:\n",
    "\t•\tA slider captures a quality rating.\n",
    "\t•\tA text box collects additional user comments.\n",
    "\t•\tFeedback can be stored or analyzed for future improvements.\n"
   ]
  },
  {
   "cell_type": "markdown",
   "metadata": {
    "id": "jzmPufTde0la"
   },
   "source": [
    "8. **Dependencies and Flow**\n",
    "\n",
    "\t1.\tSetup and Configuration:\n",
    "\t•\tDependencies are installed, and environment variables are loaded securely.\n",
    "\t•\tThe app initializes the Gemini model using the provided API key.\n",
    "\t2.\tUser Interaction:\n",
    "\t•\tUsers input the city and country code in the app.\n",
    "\t•\tThey click “Get Insights” to trigger the data fetching and AI generation.\n",
    "\t3.\tData Flow:\n",
    "\t•\tWeather data (fetch_weather_data) and GDP data (fetch_gdp_data) are fetched using their respective APIs.\n",
    "\t•\tThe collected data is combined into a structured prompt for the Gemini AI model.\n",
    "\t4.\tAI Interaction:\n",
    "\t•\tThe Gemini model generates detailed relocation insights using the provided data.\n",
    "\t•\tResults are displayed in the app under dedicated sections.\n",
    "\t5.\tFeedback:\n",
    "\t•\tUsers provide feedback, which can be saved for analysis or improvement."
   ]
  },
  {
   "cell_type": "markdown",
   "metadata": {
    "id": "GN8v7Wgge3OF"
   },
   "source": [
    "9. **App Workflow**\n",
    "\n",
    "\t1.\tInitialization:\n",
    "\t•\tEnvironment variables are loaded.\n",
    "\t•\tGemini AI model is initialized.\n",
    "\t2.\tUser Input:\n",
    "\t•\tThe user enters the city and country code.\n",
    "\t3.\tData Fetching:\n",
    "\t•\tWeather and GDP data are fetched via APIs.\n",
    "\t4.\tAI Insights:\n",
    "\t•\tThe data is processed into a prompt, and AI-generated insights are retrieved.\n",
    "\t5.\tResults Display:\n",
    "\t•\tWeather, economic summary, and AI-generated relocation insights are shown.\n",
    "\t6.\tFeedback:\n",
    "\t•\tUsers rate and comment on the quality of the insights."
   ]
  },
  {
   "cell_type": "markdown",
   "metadata": {
    "id": "qe5zKYixe5d2"
   },
   "source": [
    "### How It All Fits Together\n",
    "\n",
    "\t•\tInteractive Interface: Streamlit provides a clean, user-friendly interface for input and display.\n",
    "\t•\tData-Driven Insights: APIs (OpenWeather and World Bank) supply real-world data to contextualize the AI model’s output.\n",
    "\t•\tAI-Powered Analysis: The Gemini model enriches raw data with actionable insights tailored to the user’s input.\n",
    "\t•\tFeedback Mechanism: Captures user input to improve the app’s functionality and output quality over time.\n",
    "\n"
   ]
  }
 ],
 "metadata": {
  "colab": {
   "provenance": []
  },
  "kernelspec": {
   "display_name": "Python 3 (ipykernel)",
   "language": "python",
   "name": "python3"
  },
  "language_info": {
   "codemirror_mode": {
    "name": "ipython",
    "version": 3
   },
   "file_extension": ".py",
   "mimetype": "text/x-python",
   "name": "python",
   "nbconvert_exporter": "python",
   "pygments_lexer": "ipython3",
   "version": "3.11.7"
  }
 },
 "nbformat": 4,
 "nbformat_minor": 4
}
